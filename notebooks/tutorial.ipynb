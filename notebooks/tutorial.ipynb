{
 "cells": [
  {
   "cell_type": "markdown",
   "metadata": {},
   "source": [
    "# Tutorial\n",
    "## Getting started\n",
    "### Import library and packages"
   ]
  },
  {
   "cell_type": "code",
   "execution_count": 1,
   "metadata": {
    "collapsed": true,
    "run_control": {
     "frozen": false,
     "read_only": false
    }
   },
   "outputs": [],
   "source": [
    "import os\n",
    "import sys\n",
    "root_folder = os.path.dirname(os.getcwd())\n",
    "sys.path.append(root_folder)\n",
    "import ResoFit\n",
    "from ResoFit.calibration import Calibration\n",
    "from ResoFit.fitresonance import FitResonance\n",
    "import numpy as np"
   ]
  },
  {
   "cell_type": "markdown",
   "metadata": {
    "run_control": {
     "frozen": false,
     "read_only": false
    }
   },
   "source": [
    "### Global paramters\n",
    "  - min energy of **7 eV** (has to be greater than **1 x 10<sup>-5</sup> eV**)\n",
    "  - max energy of **150 eV** (has to be less than **3000 eV**)\n",
    "  - energy steps to interpolate database: **0.1 eV**"
   ]
  },
  {
   "cell_type": "code",
   "execution_count": 2,
   "metadata": {
    "collapsed": true,
    "run_control": {
     "frozen": false,
     "read_only": false
    }
   },
   "outputs": [],
   "source": [
    "energy_min = 7\n",
    "energy_max = 150\n",
    "energy_step = 0.01"
   ]
  },
  {
   "cell_type": "markdown",
   "metadata": {
    "run_control": {
     "frozen": false,
     "read_only": false
    }
   },
   "source": [
    "### File locations for calibriation and resonance fitting\n",
    "\n",
    "  - */data (directory to locate the file)\n",
    "  - data_file (YOUR_DATA_FILE.txt or .csv)\n",
    "  - spectra_file (YOUR_SPECTRA_FILE.txt or .csv)"
   ]
  },
  {
   "cell_type": "code",
   "execution_count": 3,
   "metadata": {
    "collapsed": true,
    "run_control": {
     "frozen": false,
     "read_only": false
    }
   },
   "outputs": [],
   "source": [
    "folder = 'data'\n",
    "data_file = 'Gd_div.csv'\n",
    "spectra_file = 'Image002_Spectra.txt'"
   ]
  },
  {
   "cell_type": "markdown",
   "metadata": {
    "run_control": {
     "frozen": false,
     "read_only": false
    }
   },
   "source": [
    "### Sample info\n",
    "\n",
    "  - **Gd** foil\n",
    "  - **thickness** neutron path within the sample in (**mm**)\n",
    "  - **density** sample density in (**g/cm<sup>3</sup>**), if omitted, pure solid density will be used in fitting\n",
    "  - **repeat** : reptition number if the data is summed of multiple runs (**default: 1**)"
   ]
  },
  {
   "cell_type": "code",
   "execution_count": 4,
   "metadata": {
    "collapsed": true,
    "run_control": {
     "frozen": false,
     "read_only": false
    }
   },
   "outputs": [],
   "source": [
    "layer_1 = 'Gd'\n",
    "thickness_1 = 0.15  # mm\n",
    "density_1 = np.NaN # g/cm^3 (if omitted, pure solid density will be used in fitting step)\n",
    "repeat = 1"
   ]
  },
  {
   "cell_type": "markdown",
   "metadata": {
    "run_control": {
     "frozen": false,
     "read_only": false
    }
   },
   "source": [
    "## Calibration\n",
    "### Estimated intrumental parameters\n",
    "\n",
    "  - input estimated **source to detector distance** (**m**)\n",
    "  - input estimated possible **time offset** in spectra file (**us**)"
   ]
  },
  {
   "cell_type": "code",
   "execution_count": 5,
   "metadata": {
    "collapsed": true,
    "run_control": {
     "frozen": false,
     "read_only": false
    }
   },
   "outputs": [],
   "source": [
    "source_to_detector_m = 16.\n",
    "offset_us = 0"
   ]
  },
  {
   "cell_type": "markdown",
   "metadata": {
    "run_control": {
     "frozen": false,
     "read_only": false
    }
   },
   "source": [
    "### Class initialization\n",
    "\n",
    "  - Pass all the parameters definded above into the Calibration()"
   ]
  },
  {
   "cell_type": "code",
   "execution_count": 6,
   "metadata": {
    "collapsed": true,
    "run_control": {
     "frozen": false,
     "read_only": false
    }
   },
   "outputs": [],
   "source": [
    "calibration = Calibration(data_file=data_file,\n",
    "                          spectra_file=spectra_file,\n",
    "                          layer_1=layer_1,\n",
    "                          thickness_1=thickness_1,\n",
    "                          density_1=np.NaN,\n",
    "                          energy_min=energy_min,\n",
    "                          energy_max=energy_max,\n",
    "                          energy_step=energy_step,\n",
    "                          repeat=repeat,\n",
    "                          folder=folder)"
   ]
  },
  {
   "cell_type": "markdown",
   "metadata": {},
   "source": [
    "### Equations for (time-wavelength-energy) conversion\n"
   ]
  },
  {
   "cell_type": "markdown",
   "metadata": {
    "run_control": {
     "frozen": false,
     "read_only": false
    }
   },
   "source": [
    "\n",
    "$$E = \\frac {81.787 }{ \\lambda^2 }$$\n",
    "\n",
    "$E$ : energy in (meV),\n",
    "\n",
    "$\\lambda$ : wavelength in (Å).\n",
    "\n",
    "$$\\lambda  = 0.3956\\frac{t_{record} + t_{offset}}{L}$$\n",
    "\n",
    "$t_{record}$ : recorded time in (µs),\n",
    "\n",
    "$t_{offset}$ : recorded time offset in (µs),\n",
    "\n",
    "$L$ : source to detector distance in (cm)."
   ]
  },
  {
   "cell_type": "markdown",
   "metadata": {
    "run_control": {
     "frozen": false,
     "read_only": false
    }
   },
   "source": [
    "### Calibrate instrumental parameters\n",
    "\n",
    "  - using **source_to_detector_m** or **offset_us** or **both** to minimize the difference between the measured resonance signals and the simulated resonance signals from *ImagingReso* within the range specified in **global parameters**\n",
    "  - **vary** can be one of **['source_to_detector', 'offset', 'all']** (default is **'all'**)\n",
    "  - fitting parameters are displayed"
   ]
  },
  {
   "cell_type": "code",
   "execution_count": 7,
   "metadata": {
    "run_control": {
     "frozen": false,
     "read_only": false
    }
   },
   "outputs": [
    {
     "name": "stdout",
     "output_type": "stream",
     "text": [
      "Calibration chi^2 : 41.61940331042635\n",
      "Name                     Value      Min      Max   Stderr     Vary     Expr Brute_Step\n",
      "offset_us                2.789     -inf      inf  0.02571     True     None     None\n",
      "source_to_detector_m     16.46     -inf      inf 0.002399     True     None     None\n"
     ]
    },
    {
     "data": {
      "text/plain": [
       "<lmfit.minimizer.MinimizerResult at 0x11d376e48>"
      ]
     },
     "execution_count": 7,
     "metadata": {},
     "output_type": "execute_result"
    }
   ],
   "source": [
    "calibration.calibrate(source_to_detector_m=source_to_detector_m,\n",
    "                      offset_us=offset_us,\n",
    "                      vary='all')"
   ]
  },
  {
   "cell_type": "markdown",
   "metadata": {
    "run_control": {
     "frozen": false,
     "read_only": false
    }
   },
   "source": [
    "### Retrieve calibrated parameters"
   ]
  },
  {
   "cell_type": "code",
   "execution_count": 8,
   "metadata": {
    "run_control": {
     "frozen": false,
     "read_only": false
    }
   },
   "outputs": [
    {
     "data": {
      "text/plain": [
       "2.789179175000466"
      ]
     },
     "execution_count": 8,
     "metadata": {},
     "output_type": "execute_result"
    }
   ],
   "source": [
    "calibration.calibrated_offset_us"
   ]
  },
  {
   "cell_type": "code",
   "execution_count": 9,
   "metadata": {
    "run_control": {
     "frozen": false,
     "read_only": false
    }
   },
   "outputs": [
    {
     "data": {
      "text/plain": [
       "16.45579759321182"
      ]
     },
     "execution_count": 9,
     "metadata": {},
     "output_type": "execute_result"
    }
   ],
   "source": [
    "calibration.calibrated_source_to_detector_m"
   ]
  },
  {
   "cell_type": "markdown",
   "metadata": {
    "run_control": {
     "frozen": false,
     "read_only": false
    }
   },
   "source": [
    "### Plot calibration result\n",
    "\n",
    "  - using the best fitted **source_to_detector_m** and **offset_us** to show the calibrated resonance signals from measured data and the expected resonance positions from *ImagingReso*\n",
    "  - measured data before and after is ploted with raw data points instead of interpolated data points. However, the interpolated data was used during the calibration step above."
   ]
  },
  {
   "cell_type": "code",
   "execution_count": 10,
   "metadata": {
    "run_control": {
     "frozen": false,
     "read_only": false
    }
   },
   "outputs": [
    {
     "data": {
      "image/png": "[encoded data removed]",
      "text/plain": [
       "<matplotlib.figure.Figure at 0x11d101b70>"
      ]
     },
     "metadata": {},
     "output_type": "display_data"
    },
    {
     "data": {
      "image/png": "[encoded data removed]",
      "text/plain": [
       "<matplotlib.figure.Figure at 0x11d101940>"
      ]
     },
     "metadata": {},
     "output_type": "display_data"
    }
   ],
   "source": [
    "calibration.plot_before()\n",
    "calibration.plot_after()"
   ]
  },
  {
   "cell_type": "markdown",
   "metadata": {
    "run_control": {
     "frozen": false,
     "read_only": false
    }
   },
   "source": [
    "## Fit resonances\n",
    "### Class initialization\n",
    "\n",
    "  - Pass all the parameters definded and calibrated into the FitResonance()"
   ]
  },
  {
   "cell_type": "code",
   "execution_count": 11,
   "metadata": {
    "collapsed": true,
    "run_control": {
     "frozen": false,
     "read_only": false
    }
   },
   "outputs": [],
   "source": [
    "fit = FitResonance(spectra_file=spectra_file,\n",
    "                   data_file=data_file,\n",
    "                   layer=layer_1,\n",
    "                   repeat=repeat,\n",
    "                   energy_min=energy_min,\n",
    "                   energy_max=energy_max,\n",
    "                   energy_step=energy_step,\n",
    "                   calibrated_offset_us=calibration.calibrated_offset_us,\n",
    "                   calibrated_source_to_detector_m=calibration.calibrated_source_to_detector_m)"
   ]
  },
  {
   "cell_type": "markdown",
   "metadata": {
    "run_control": {
     "frozen": false,
     "read_only": false
    }
   },
   "source": [
    "### Fitting equations\n",
    "#### Beer-Lambert Law:\n",
    "\n",
    "$$T\\left( E \\right) =\\frac { I\\left( E \\right)  }{ { I }_{ 0 }\\left( E \\right)  } =exp\\left[ -\\sum\\nolimits_i { { N }_{ i }{ d }_{ i } } \\sum\\nolimits_j { { \\sigma  }_{ ij }\\left( E \\right) { A }_{ ij } }  \\right]$$\n",
    "\n",
    "${ N }_{ i }$ : number of atoms per unit volume of element $i$,\n",
    "\n",
    "${ d }_{ i }$ : effective thickness along the neutron path of element $i$,\n",
    "\n",
    "${ \\sigma  }_{ ij }\\left( E \\right)$  : energy-dependent neutron total cross-section for the isotope $j$ of element $i$,\n",
    "\n",
    "${ A }_{ ij }$ : abundance for the isotope $j$ of element $i$.\n",
    "\n",
    "$${N_i} = {N_A}{C_i} = \\frac { {N_A}{\\rho_i}} {\\sum\\nolimits_j {m_{ij}{A_{ij}}}}$$\n",
    "\n",
    "${N_A}$ : Avogadro’s number,\n",
    "\n",
    "${C_i}$ : molar concentration of element $i$,\n",
    "\n",
    "${\\rho_i}$ : density of the element $i$,\n",
    "\n",
    "$m_{ij}$ : atomic mass values for the isotope $j$ of element $i$.\n"
   ]
  },
  {
   "cell_type": "markdown",
   "metadata": {
    "run_control": {
     "frozen": false,
     "read_only": false
    }
   },
   "source": [
    "#### How to fit the resonance signals\n",
    "\n",
    "  - using **thickness** (mm) or **density** (g/cm<sup>3</sup>) to minimize the difference between the measured resonance signals and the simulated resonance signals from *ImagingReso* within the range specified in **global parameters**\n",
    "  - **vary** can be one of **['thickness', 'density']** (default is **'density'**)\n",
    "  - fitting parameters are displayed"
   ]
  },
  {
   "cell_type": "code",
   "execution_count": 13,
   "metadata": {
    "run_control": {
     "frozen": false,
     "read_only": false
    }
   },
   "outputs": [
    {
     "name": "stdout",
     "output_type": "stream",
     "text": [
      "Fitting chi^2 : 7.9360016635195585\n",
      "Name             Value      Min      Max   Stderr     Vary     Expr Brute_Step\n",
      "density_gcm3    0.4781        0      inf  0.02647     True     None     None\n",
      "thickness_mm      0.15        0      inf        0    False     None     None\n"
     ]
    },
    {
     "data": {
      "text/plain": [
       "<lmfit.minimizer.MinimizerResult at 0x11d5425c0>"
      ]
     },
     "execution_count": 13,
     "metadata": {},
     "output_type": "execute_result"
    }
   ],
   "source": [
    "fit.fit(thickness_mm=thickness_1, density_gcm3=density_1, vary='density')"
   ]
  },
  {
   "cell_type": "markdown",
   "metadata": {
    "run_control": {
     "frozen": false,
     "read_only": false
    }
   },
   "source": [
    "### Output fitted result in molar concentration\n",
    "\n",
    "  - unit: mol/cm<sup>3</sup>"
   ]
  },
  {
   "cell_type": "code",
   "execution_count": 14,
   "metadata": {
    "run_control": {
     "frozen": false,
     "read_only": false
    }
   },
   "outputs": [
    {
     "name": "stdout",
     "output_type": "stream",
     "text": [
      "Molar conc. of element Gd in layer Gd is: 0.003040475987903162 (mol/cm3)\n"
     ]
    },
    {
     "data": {
      "text/plain": [
       "0.003040475987903162"
      ]
     },
     "execution_count": 14,
     "metadata": {},
     "output_type": "execute_result"
    }
   ],
   "source": [
    "fit.molar_conc(layer_1)"
   ]
  },
  {
   "cell_type": "markdown",
   "metadata": {
    "run_control": {
     "frozen": false,
     "read_only": false
    }
   },
   "source": [
    "### Plot fitting result\n",
    "\n",
    "  - using the best fitted **density** to show the measured resonance signals and the fitted resonance signals from *ImagingReso*\n",
    "  - measured data before and after is ploted with raw data points instead of interpolated data points. However, the interpolated data was used during the fitting step above."
   ]
  },
  {
   "cell_type": "code",
   "execution_count": 15,
   "metadata": {
    "run_control": {
     "frozen": false,
     "read_only": false
    },
    "scrolled": false
   },
   "outputs": [
    {
     "data": {
      "image/png": "[encoded data removed]",
      "text/plain": [
       "<matplotlib.figure.Figure at 0x11d6ca710>"
      ]
     },
     "metadata": {},
     "output_type": "display_data"
    },
    {
     "data": {
      "image/png": "[encoded data removed]",
      "text/plain": [
       "<matplotlib.figure.Figure at 0x11d101cf8>"
      ]
     },
     "metadata": {},
     "output_type": "display_data"
    }
   ],
   "source": [
    "fit.plot_before()\n",
    "fit.plot_after()"
   ]
  },
  {
   "cell_type": "code",
   "execution_count": null,
   "metadata": {
    "collapsed": true
   },
   "outputs": [],
   "source": []
  }
 ],
 "metadata": {
  "kernelspec": {
   "display_name": "Python 3",
   "language": "python",
   "name": "python3"
  },
  "language_info": {
   "codemirror_mode": {
    "name": "ipython",
    "version": 3
   },
   "file_extension": ".py",
   "mimetype": "text/x-python",
   "name": "python",
   "nbconvert_exporter": "python",
   "pygments_lexer": "ipython3",
   "version": "3.6.1"
  },
  "toc": {
   "colors": {
    "hover_highlight": "#DAA520",
    "running_highlight": "#FF0000",
    "selected_highlight": "#FFD700"
   },
   "moveMenuLeft": true,
   "nav_menu": {
    "height": "12px",
    "width": "252px"
   },
   "navigate_menu": true,
   "number_sections": true,
   "sideBar": true,
   "threshold": 4,
   "toc_cell": false,
   "toc_section_display": "block",
   "toc_window_display": false
  }
 },
 "nbformat": 4,
 "nbformat_minor": 2
}
