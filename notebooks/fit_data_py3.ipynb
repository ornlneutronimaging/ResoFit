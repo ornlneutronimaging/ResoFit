{
 "cells": [
  {
   "cell_type": "code",
   "execution_count": 1,
   "metadata": {
    "collapsed": true
   },
   "outputs": [],
   "source": [
    "import os\n",
    "import sys\n",
    "import re\n",
    "import matplotlib.pyplot as plt\n",
    "import peakutils as pku\n",
    "from lmfit import Parameters\n",
    "import ImagingReso\n",
    "root_folder = os.path.dirname(os.getcwd())\n",
    "sys.path.append(root_folder)\n",
    "import ResoFit\n",
    "from ResoFit.experiment import Experiment\n",
    "from ResoFit.simulation import Simulation\n",
    "from ResoFit.calibrate import Calibrate\n",
    "import numpy as np\n",
    "from scipy.interpolate import interp1d"
   ]
  },
  {
   "cell_type": "code",
   "execution_count": 2,
   "metadata": {},
   "outputs": [
    {
     "name": "stdout",
     "output_type": "stream",
     "text": [
      "x_ideal_peak:  [  7.74982045  16.77009871  19.92078626  20.56230706  21.02975644\n",
      "  22.30487671  30.10164902  33.22955832  44.16766233  48.80115843\n",
      "  58.38201762  80.10371275]\n",
      "[ 0.00802427  0.00726914  0.00655389 ...,  0.00650823  0.00648971\n",
      "  0.0064713 ]\n"
     ]
    },
    {
     "data": {
      "image/png": "[encoded data removed]",
      "text/plain": [
       "<matplotlib.figure.Figure at 0x11090aba8>"
      ]
     },
     "metadata": {},
     "output_type": "display_data"
    }
   ],
   "source": [
    "# Global parameters\n",
    "_energy_min = 7\n",
    "_energy_max = 100\n",
    "_energy_step = 0.001\n",
    "# Input sample name or names as str, case sensitive\n",
    "_layer_1 = 'Gd'\n",
    "_thickness_1 = 0.075 # mm\n",
    "mass = 0.36 # gram\n",
    "length = 25\n",
    "width = 25\n",
    "height = 0.075\n",
    "mm3_to_cm3 = 0.001\n",
    "density = mass/(length*width*height*mm3_to_cm3)\n",
    "_density_1 = np.NaN\n",
    "\n",
    "# Ideal\n",
    "simulation = Simulation(layer_1=_layer_1,\n",
    "                        thickness_1=_thickness_1,\n",
    "                        density_1=np.NaN,\n",
    "                        _energy_min=_energy_min,\n",
    "                        _energy_max=_energy_max,\n",
    "                        _energy_step=_energy_step)\n",
    "simu_x = simulation.x()\n",
    "simu_y = simulation.y()\n",
    "\n",
    "\n",
    "ideal_y_index = pku.indexes(simu_y, thres=0.15, min_dist=10)#, thres=0.1, min_dist=50)\n",
    "ideal_x_index = pku.interpolate(simu_x, simu_y, ind=ideal_y_index)\n",
    "print('x_ideal_peak: ', ideal_x_index)\n",
    "plt.plot(simu_x, simu_y, 'b.', label=_layer_1+'_ideal')\n",
    "plt.plot(simu_x[ideal_y_index], simu_y[ideal_y_index], 'bo', label='peak_ideal')\n",
    "\n",
    "# Experiment\n",
    "experiment = Experiment(data='all_thin.txt', spectra='Image002_Spectra.txt', repeat=5)\n",
    "exp_x = experiment.x()\n",
    "baseline = pku.baseline(experiment.y())\n",
    "exp_y = experiment.y() - baseline\n",
    "\n",
    "# exp_y_index = pku.indexes(exp_y, thres=0.05/max(exp_y), min_dist=7)\n",
    "# exp_x_index = pku.interpolate(exp_x, exp_y, ind=exp_y_index)\n",
    "\n",
    "# print('x_exp_peak: ', exp_x_index)\n",
    "# equal_size_boo = len(ideal_x_index) == len(exp_x_index)\n",
    "# print('Equal size: ', equal_size_boo)\n",
    "\n",
    "# Unifying the ideal & experimental range\n",
    "exp_y_function = interp1d(x=exp_x, y=exp_y, kind='cubic')\n",
    "exp_y_interp = exp_y_function(simu_x)\n",
    "print(exp_y_interp)\n",
    "\n",
    "\n",
    "plt.plot(simu_x, exp_y_interp, 'r.', label='data')\n",
    "# plt.plot(exp_x[exp_y_index], exp_y[exp_y_index], 'go', label='peak_exp')\n",
    "plt.title('Peak estimation')\n",
    "\n",
    "plt.ylim(-0.01, 1.01)\n",
    "plt.xlim(0, _energy_max)\n",
    "plt.legend(loc='best')\n",
    "plt.show()\n",
    "\n",
    "\n",
    "#\n",
    "# df = pd.DataFrame()\n",
    "# df['Exp_x'] = x_data_array\n",
    "# df['Exp_y'] = y_data_array\n",
    "# df2 = pd.DataFrame()\n",
    "# df2['Ideal_x'] = simu_x\n",
    "# df2['Ideal_y'] = simu_y\n",
    "# x_gap = _fit_functions.peak_x_gap(params, ideal_x_index, y_data_array)\n",
    "# print('x_gap:', x_gap)\n",
    "\n",
    "# out = minimize(_fit_functions.peak_x_gap, params, method='leastsq', args=(ideal_x_index, y_data_array))\n",
    "# out = scipy.optimize.minimize(_fit_funtions.peak_x_gap_scipy, delay_us, method='leastsq', args=(ideal_x_index, y_data_array))\n",
    "# print(out.__dict__)"
   ]
  },
  {
   "cell_type": "code",
   "execution_count": 3,
   "metadata": {
    "collapsed": true
   },
   "outputs": [],
   "source": [
    "a=1"
   ]
  },
  {
   "cell_type": "code",
   "execution_count": 4,
   "metadata": {},
   "outputs": [
    {
     "data": {
      "text/plain": [
       "1"
      ]
     },
     "execution_count": 4,
     "metadata": {},
     "output_type": "execute_result"
    }
   ],
   "source": [
    "a"
   ]
  },
  {
   "cell_type": "code",
   "execution_count": null,
   "metadata": {
    "collapsed": true
   },
   "outputs": [],
   "source": []
  }
 ],
 "metadata": {
  "kernelspec": {
   "display_name": "Python 3",
   "language": "python",
   "name": "python3"
  },
  "language_info": {
   "codemirror_mode": {
    "name": "ipython",
    "version": 3
   },
   "file_extension": ".py",
   "mimetype": "text/x-python",
   "name": "python",
   "nbconvert_exporter": "python",
   "pygments_lexer": "ipython3",
   "version": "3.6.1"
  }
 },
 "nbformat": 4,
 "nbformat_minor": 2
}
